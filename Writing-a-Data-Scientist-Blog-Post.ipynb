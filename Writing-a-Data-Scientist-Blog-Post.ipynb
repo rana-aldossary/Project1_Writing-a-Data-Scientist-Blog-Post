{
 "cells": [
  {
   "cell_type": "markdown",
   "metadata": {},
   "source": [
    "## Project1 Writing a Data Scientist Blog Post"
   ]
  },
  {
   "cell_type": "code",
   "execution_count": 1,
   "metadata": {},
   "outputs": [],
   "source": [
    "import pandas as pd\n",
    "import numpy as np\n",
    "import matplotlib.pyplot as plt\n",
    "import seaborn as sns\n",
    "from sklearn.linear_model import LinearRegression\n",
    "from sklearn.model_selection import train_test_split\n",
    "%matplotlib inline\n"
   ]
  },
  {
   "cell_type": "markdown",
   "metadata": {},
   "source": [
    "## 1. Business Understanding\n",
    "The following questions will be answer after analyzing the dataset:\n",
    "1. The highest salary belong to which Country ??\n",
    "2. The highest salary belong to which size of company and its type??\n",
    "3. Which Formal Education has the highest salary?\n",
    "4. What the programing language that the people most like it ?"
   ]
  },
  {
   "cell_type": "markdown",
   "metadata": {},
   "source": [
    "## 2. Understand Data"
   ]
  },
  {
   "cell_type": "code",
   "execution_count": 2,
   "metadata": {},
   "outputs": [
    {
     "data": {
      "text/html": [
       "<div>\n",
       "<style scoped>\n",
       "    .dataframe tbody tr th:only-of-type {\n",
       "        vertical-align: middle;\n",
       "    }\n",
       "\n",
       "    .dataframe tbody tr th {\n",
       "        vertical-align: top;\n",
       "    }\n",
       "\n",
       "    .dataframe thead th {\n",
       "        text-align: right;\n",
       "    }\n",
       "</style>\n",
       "<table border=\"1\" class=\"dataframe\">\n",
       "  <thead>\n",
       "    <tr style=\"text-align: right;\">\n",
       "      <th></th>\n",
       "      <th>Respondent</th>\n",
       "      <th>Professional</th>\n",
       "      <th>ProgramHobby</th>\n",
       "      <th>Country</th>\n",
       "      <th>University</th>\n",
       "      <th>EmploymentStatus</th>\n",
       "      <th>FormalEducation</th>\n",
       "      <th>MajorUndergrad</th>\n",
       "      <th>HomeRemote</th>\n",
       "      <th>CompanySize</th>\n",
       "      <th>...</th>\n",
       "      <th>StackOverflowMakeMoney</th>\n",
       "      <th>Gender</th>\n",
       "      <th>HighestEducationParents</th>\n",
       "      <th>Race</th>\n",
       "      <th>SurveyLong</th>\n",
       "      <th>QuestionsInteresting</th>\n",
       "      <th>QuestionsConfusing</th>\n",
       "      <th>InterestedAnswers</th>\n",
       "      <th>Salary</th>\n",
       "      <th>ExpectedSalary</th>\n",
       "    </tr>\n",
       "  </thead>\n",
       "  <tbody>\n",
       "    <tr>\n",
       "      <th>0</th>\n",
       "      <td>1</td>\n",
       "      <td>Student</td>\n",
       "      <td>Yes, both</td>\n",
       "      <td>United States</td>\n",
       "      <td>No</td>\n",
       "      <td>Not employed, and not looking for work</td>\n",
       "      <td>Secondary school</td>\n",
       "      <td>NaN</td>\n",
       "      <td>NaN</td>\n",
       "      <td>NaN</td>\n",
       "      <td>...</td>\n",
       "      <td>Strongly disagree</td>\n",
       "      <td>Male</td>\n",
       "      <td>High school</td>\n",
       "      <td>White or of European descent</td>\n",
       "      <td>Strongly disagree</td>\n",
       "      <td>Strongly agree</td>\n",
       "      <td>Disagree</td>\n",
       "      <td>Strongly agree</td>\n",
       "      <td>NaN</td>\n",
       "      <td>NaN</td>\n",
       "    </tr>\n",
       "    <tr>\n",
       "      <th>1</th>\n",
       "      <td>2</td>\n",
       "      <td>Student</td>\n",
       "      <td>Yes, both</td>\n",
       "      <td>United Kingdom</td>\n",
       "      <td>Yes, full-time</td>\n",
       "      <td>Employed part-time</td>\n",
       "      <td>Some college/university study without earning ...</td>\n",
       "      <td>Computer science or software engineering</td>\n",
       "      <td>More than half, but not all, the time</td>\n",
       "      <td>20 to 99 employees</td>\n",
       "      <td>...</td>\n",
       "      <td>Strongly disagree</td>\n",
       "      <td>Male</td>\n",
       "      <td>A master's degree</td>\n",
       "      <td>White or of European descent</td>\n",
       "      <td>Somewhat agree</td>\n",
       "      <td>Somewhat agree</td>\n",
       "      <td>Disagree</td>\n",
       "      <td>Strongly agree</td>\n",
       "      <td>NaN</td>\n",
       "      <td>37500.0</td>\n",
       "    </tr>\n",
       "    <tr>\n",
       "      <th>2</th>\n",
       "      <td>3</td>\n",
       "      <td>Professional developer</td>\n",
       "      <td>Yes, both</td>\n",
       "      <td>United Kingdom</td>\n",
       "      <td>No</td>\n",
       "      <td>Employed full-time</td>\n",
       "      <td>Bachelor's degree</td>\n",
       "      <td>Computer science or software engineering</td>\n",
       "      <td>Less than half the time, but at least one day ...</td>\n",
       "      <td>10,000 or more employees</td>\n",
       "      <td>...</td>\n",
       "      <td>Disagree</td>\n",
       "      <td>Male</td>\n",
       "      <td>A professional degree</td>\n",
       "      <td>White or of European descent</td>\n",
       "      <td>Somewhat agree</td>\n",
       "      <td>Agree</td>\n",
       "      <td>Disagree</td>\n",
       "      <td>Agree</td>\n",
       "      <td>113750.0</td>\n",
       "      <td>NaN</td>\n",
       "    </tr>\n",
       "    <tr>\n",
       "      <th>3</th>\n",
       "      <td>4</td>\n",
       "      <td>Professional non-developer who sometimes write...</td>\n",
       "      <td>Yes, both</td>\n",
       "      <td>United States</td>\n",
       "      <td>No</td>\n",
       "      <td>Employed full-time</td>\n",
       "      <td>Doctoral degree</td>\n",
       "      <td>A non-computer-focused engineering discipline</td>\n",
       "      <td>Less than half the time, but at least one day ...</td>\n",
       "      <td>10,000 or more employees</td>\n",
       "      <td>...</td>\n",
       "      <td>Disagree</td>\n",
       "      <td>Male</td>\n",
       "      <td>A doctoral degree</td>\n",
       "      <td>White or of European descent</td>\n",
       "      <td>Agree</td>\n",
       "      <td>Agree</td>\n",
       "      <td>Somewhat agree</td>\n",
       "      <td>Strongly agree</td>\n",
       "      <td>NaN</td>\n",
       "      <td>NaN</td>\n",
       "    </tr>\n",
       "    <tr>\n",
       "      <th>4</th>\n",
       "      <td>5</td>\n",
       "      <td>Professional developer</td>\n",
       "      <td>Yes, I program as a hobby</td>\n",
       "      <td>Switzerland</td>\n",
       "      <td>No</td>\n",
       "      <td>Employed full-time</td>\n",
       "      <td>Master's degree</td>\n",
       "      <td>Computer science or software engineering</td>\n",
       "      <td>Never</td>\n",
       "      <td>10 to 19 employees</td>\n",
       "      <td>...</td>\n",
       "      <td>NaN</td>\n",
       "      <td>NaN</td>\n",
       "      <td>NaN</td>\n",
       "      <td>NaN</td>\n",
       "      <td>NaN</td>\n",
       "      <td>NaN</td>\n",
       "      <td>NaN</td>\n",
       "      <td>NaN</td>\n",
       "      <td>NaN</td>\n",
       "      <td>NaN</td>\n",
       "    </tr>\n",
       "  </tbody>\n",
       "</table>\n",
       "<p>5 rows × 154 columns</p>\n",
       "</div>"
      ],
      "text/plain": [
       "   Respondent                                       Professional  \\\n",
       "0           1                                            Student   \n",
       "1           2                                            Student   \n",
       "2           3                             Professional developer   \n",
       "3           4  Professional non-developer who sometimes write...   \n",
       "4           5                             Professional developer   \n",
       "\n",
       "                ProgramHobby         Country      University  \\\n",
       "0                  Yes, both   United States              No   \n",
       "1                  Yes, both  United Kingdom  Yes, full-time   \n",
       "2                  Yes, both  United Kingdom              No   \n",
       "3                  Yes, both   United States              No   \n",
       "4  Yes, I program as a hobby     Switzerland              No   \n",
       "\n",
       "                         EmploymentStatus  \\\n",
       "0  Not employed, and not looking for work   \n",
       "1                      Employed part-time   \n",
       "2                      Employed full-time   \n",
       "3                      Employed full-time   \n",
       "4                      Employed full-time   \n",
       "\n",
       "                                     FormalEducation  \\\n",
       "0                                   Secondary school   \n",
       "1  Some college/university study without earning ...   \n",
       "2                                  Bachelor's degree   \n",
       "3                                    Doctoral degree   \n",
       "4                                    Master's degree   \n",
       "\n",
       "                                  MajorUndergrad  \\\n",
       "0                                            NaN   \n",
       "1       Computer science or software engineering   \n",
       "2       Computer science or software engineering   \n",
       "3  A non-computer-focused engineering discipline   \n",
       "4       Computer science or software engineering   \n",
       "\n",
       "                                          HomeRemote  \\\n",
       "0                                                NaN   \n",
       "1              More than half, but not all, the time   \n",
       "2  Less than half the time, but at least one day ...   \n",
       "3  Less than half the time, but at least one day ...   \n",
       "4                                              Never   \n",
       "\n",
       "                CompanySize  ... StackOverflowMakeMoney Gender  \\\n",
       "0                       NaN  ...      Strongly disagree   Male   \n",
       "1        20 to 99 employees  ...      Strongly disagree   Male   \n",
       "2  10,000 or more employees  ...               Disagree   Male   \n",
       "3  10,000 or more employees  ...               Disagree   Male   \n",
       "4        10 to 19 employees  ...                    NaN    NaN   \n",
       "\n",
       "  HighestEducationParents                          Race         SurveyLong  \\\n",
       "0             High school  White or of European descent  Strongly disagree   \n",
       "1       A master's degree  White or of European descent     Somewhat agree   \n",
       "2   A professional degree  White or of European descent     Somewhat agree   \n",
       "3       A doctoral degree  White or of European descent              Agree   \n",
       "4                     NaN                           NaN                NaN   \n",
       "\n",
       "  QuestionsInteresting QuestionsConfusing InterestedAnswers    Salary  \\\n",
       "0       Strongly agree           Disagree    Strongly agree       NaN   \n",
       "1       Somewhat agree           Disagree    Strongly agree       NaN   \n",
       "2                Agree           Disagree             Agree  113750.0   \n",
       "3                Agree     Somewhat agree    Strongly agree       NaN   \n",
       "4                  NaN                NaN               NaN       NaN   \n",
       "\n",
       "   ExpectedSalary  \n",
       "0             NaN  \n",
       "1         37500.0  \n",
       "2             NaN  \n",
       "3             NaN  \n",
       "4             NaN  \n",
       "\n",
       "[5 rows x 154 columns]"
      ]
     },
     "execution_count": 2,
     "metadata": {},
     "output_type": "execute_result"
    }
   ],
   "source": [
    "#importing data\n",
    "\n",
    "data=pd.read_csv('survey_results_public.csv')\n",
    "\n",
    "#Viewing head 5 rows for data\n",
    "data.head()"
   ]
  },
  {
   "cell_type": "code",
   "execution_count": 3,
   "metadata": {},
   "outputs": [
    {
     "data": {
      "text/plain": [
       "Respondent                  0\n",
       "Professional                0\n",
       "ProgramHobby                0\n",
       "Country                     0\n",
       "University                  0\n",
       "                        ...  \n",
       "QuestionsInteresting    16856\n",
       "QuestionsConfusing      16973\n",
       "InterestedAnswers       16780\n",
       "Salary                  38501\n",
       "ExpectedSalary          48826\n",
       "Length: 154, dtype: int64"
      ]
     },
     "execution_count": 3,
     "metadata": {},
     "output_type": "execute_result"
    }
   ],
   "source": [
    "#start Handling missing data with inspecting the sum of it in each col\n",
    "data.isna().sum()"
   ]
  },
  {
   "cell_type": "code",
   "execution_count": 5,
   "metadata": {},
   "outputs": [
    {
     "name": "stdout",
     "output_type": "stream",
     "text": [
      "Index(['Respondent', 'Professional', 'ProgramHobby', 'Country', 'University',\n",
      "       'EmploymentStatus', 'FormalEducation', 'MajorUndergrad', 'HomeRemote',\n",
      "       'CompanySize',\n",
      "       ...\n",
      "       'StackOverflowMakeMoney', 'Gender', 'HighestEducationParents', 'Race',\n",
      "       'SurveyLong', 'QuestionsInteresting', 'QuestionsConfusing',\n",
      "       'InterestedAnswers', 'Salary', 'ExpectedSalary'],\n",
      "      dtype='object', length=154)\n",
      "Respondent\n",
      "Professional\n",
      "ProgramHobby\n",
      "Country\n",
      "University\n",
      "EmploymentStatus\n",
      "FormalEducation\n",
      "MajorUndergrad\n",
      "HomeRemote\n",
      "CompanySize\n",
      "CompanyType\n",
      "YearsProgram\n",
      "YearsCodedJob\n",
      "YearsCodedJobPast\n",
      "DeveloperType\n",
      "WebDeveloperType\n",
      "MobileDeveloperType\n",
      "NonDeveloperType\n",
      "CareerSatisfaction\n",
      "JobSatisfaction\n",
      "ExCoderReturn\n",
      "ExCoderNotForMe\n",
      "ExCoderBalance\n",
      "ExCoder10Years\n",
      "ExCoderBelonged\n",
      "ExCoderSkills\n",
      "ExCoderWillNotCode\n",
      "ExCoderActive\n",
      "PronounceGIF\n",
      "ProblemSolving\n",
      "BuildingThings\n",
      "LearningNewTech\n",
      "BoringDetails\n",
      "JobSecurity\n",
      "DiversityImportant\n",
      "AnnoyingUI\n",
      "FriendsDevelopers\n",
      "RightWrongWay\n",
      "UnderstandComputers\n",
      "SeriousWork\n",
      "InvestTimeTools\n",
      "WorkPayCare\n",
      "KinshipDevelopers\n",
      "ChallengeMyself\n",
      "CompetePeers\n",
      "ChangeWorld\n",
      "JobSeekingStatus\n",
      "HoursPerWeek\n",
      "LastNewJob\n",
      "AssessJobIndustry\n",
      "AssessJobRole\n",
      "AssessJobExp\n",
      "AssessJobDept\n",
      "AssessJobTech\n",
      "AssessJobProjects\n",
      "AssessJobCompensation\n",
      "AssessJobOffice\n",
      "AssessJobCommute\n",
      "AssessJobRemote\n",
      "AssessJobLeaders\n",
      "AssessJobProfDevel\n",
      "AssessJobDiversity\n",
      "AssessJobProduct\n",
      "AssessJobFinances\n",
      "ImportantBenefits\n",
      "ClickyKeys\n",
      "JobProfile\n",
      "ResumePrompted\n",
      "LearnedHiring\n",
      "ImportantHiringAlgorithms\n",
      "ImportantHiringTechExp\n",
      "ImportantHiringCommunication\n",
      "ImportantHiringOpenSource\n",
      "ImportantHiringPMExp\n",
      "ImportantHiringCompanies\n",
      "ImportantHiringTitles\n",
      "ImportantHiringEducation\n",
      "ImportantHiringRep\n",
      "ImportantHiringGettingThingsDone\n",
      "Currency\n",
      "Overpaid\n",
      "TabsSpaces\n",
      "EducationImportant\n",
      "EducationTypes\n",
      "SelfTaughtTypes\n",
      "TimeAfterBootcamp\n",
      "CousinEducation\n",
      "WorkStart\n",
      "HaveWorkedLanguage\n",
      "WantWorkLanguage\n",
      "HaveWorkedFramework\n",
      "WantWorkFramework\n",
      "HaveWorkedDatabase\n",
      "WantWorkDatabase\n",
      "HaveWorkedPlatform\n",
      "WantWorkPlatform\n",
      "IDE\n",
      "AuditoryEnvironment\n",
      "Methodology\n",
      "VersionControl\n",
      "CheckInCode\n",
      "ShipIt\n",
      "OtherPeoplesCode\n",
      "ProjectManagement\n",
      "EnjoyDebugging\n",
      "InTheZone\n",
      "DifficultCommunication\n",
      "CollaborateRemote\n",
      "MetricAssess\n",
      "EquipmentSatisfiedMonitors\n",
      "EquipmentSatisfiedCPU\n",
      "EquipmentSatisfiedRAM\n",
      "EquipmentSatisfiedStorage\n",
      "EquipmentSatisfiedRW\n",
      "InfluenceInternet\n",
      "InfluenceWorkstation\n",
      "InfluenceHardware\n",
      "InfluenceServers\n",
      "InfluenceTechStack\n",
      "InfluenceDeptTech\n",
      "InfluenceVizTools\n",
      "InfluenceDatabase\n",
      "InfluenceCloud\n",
      "InfluenceConsultants\n",
      "InfluenceRecruitment\n",
      "InfluenceCommunication\n",
      "StackOverflowDescribes\n",
      "StackOverflowSatisfaction\n",
      "StackOverflowDevices\n",
      "StackOverflowFoundAnswer\n",
      "StackOverflowCopiedCode\n",
      "StackOverflowJobListing\n",
      "StackOverflowCompanyPage\n",
      "StackOverflowJobSearch\n",
      "StackOverflowNewQuestion\n",
      "StackOverflowAnswer\n",
      "StackOverflowMetaChat\n",
      "StackOverflowAdsRelevant\n",
      "StackOverflowAdsDistracting\n",
      "StackOverflowModeration\n",
      "StackOverflowCommunity\n",
      "StackOverflowHelpful\n",
      "StackOverflowBetter\n",
      "StackOverflowWhatDo\n",
      "StackOverflowMakeMoney\n",
      "Gender\n",
      "HighestEducationParents\n",
      "Race\n",
      "SurveyLong\n",
      "QuestionsInteresting\n",
      "QuestionsConfusing\n",
      "InterestedAnswers\n",
      "Salary\n",
      "ExpectedSalary\n"
     ]
    }
   ],
   "source": [
    "#columns in dataset are\n",
    "print(data.columns)\n",
    "\n",
    "#To view all col`s we need loop\n",
    "for c in data:\n",
    "    print(c)"
   ]
  },
  {
   "cell_type": "code",
   "execution_count": 6,
   "metadata": {},
   "outputs": [
    {
     "data": {
      "text/plain": [
       "(51392, 154)"
      ]
     },
     "execution_count": 6,
     "metadata": {},
     "output_type": "execute_result"
    }
   ],
   "source": [
    "#Number of row and columns is \n",
    "data.shape"
   ]
  },
  {
   "cell_type": "markdown",
   "metadata": {},
   "source": [
    "## 3.Prepare Data"
   ]
  },
  {
   "cell_type": "code",
   "execution_count": 4,
   "metadata": {},
   "outputs": [],
   "source": [
    "#take care of missing data by filling it\n",
    "\n",
    "data=data.fillna(method='ffill')\n",
    "data=data.fillna(method='bfill')\n"
   ]
  },
  {
   "cell_type": "markdown",
   "metadata": {},
   "source": [
    "## 4. Answer Questions\n"
   ]
  },
  {
   "cell_type": "markdown",
   "metadata": {},
   "source": [
    "**Q1)The highest salary belong to which Country ??**"
   ]
  },
  {
   "cell_type": "code",
   "execution_count": 7,
   "metadata": {},
   "outputs": [
    {
     "data": {
      "text/plain": [
       "array(['United States', 'United Kingdom', 'Switzerland', 'New Zealand',\n",
       "       'Poland', 'Colombia', 'France', 'Canada', 'Germany', 'Greece',\n",
       "       'Brazil', 'Israel', 'Italy', 'Belgium', 'India', 'Chile',\n",
       "       'Croatia', 'Argentina', 'Netherlands', 'Denmark', 'Ukraine',\n",
       "       'Sri Lanka', 'Malaysia', 'Finland', 'Turkey', 'Spain', 'Austria',\n",
       "       'Mexico', 'Russian Federation', 'Bulgaria', 'Uruguay', 'Estonia',\n",
       "       'Iran', 'Bangladesh', 'Sweden', 'Lithuania', 'Paraguay', 'Romania',\n",
       "       'Costa Rica', 'Serbia', 'Slovenia', 'United Arab Emirates',\n",
       "       'Tunisia', 'Kenya', 'El Salvador', 'Norway', 'Dominican Republic',\n",
       "       'Belarus', 'Portugal', 'Czech Republic', 'Albania',\n",
       "       'I prefer not to say', 'South Africa', 'Uzbekistan', 'Moldavia',\n",
       "       'Ireland', 'Nepal', 'Pakistan', 'Slovak Republic', 'Hungary',\n",
       "       'Egypt', 'Australia', 'Japan', 'South Korea', 'Rwanda',\n",
       "       'Luxembourg', 'Kazakhstan', 'Bolivia', 'Vietnam', 'Somalia',\n",
       "       'Saudi Arabia', 'Ethiopia', 'Macedonia', 'Bosnia-Herzegovina',\n",
       "       'Algeria', 'Nicaragua', 'Cuba', 'Indonesia',\n",
       "       'Netherlands Antilles', 'Jamaica', 'Nigeria', 'Ecuador', 'Peru',\n",
       "       'Malta', 'Uganda', 'Morocco', 'Guatemala', 'Jordan', 'Cyprus',\n",
       "       'Georgia', 'Armenia', 'Virgin Islands (USA)', 'Lebanon', 'China',\n",
       "       'Bermuda', 'Latvia', 'Singapore', 'Thailand', 'American Samoa',\n",
       "       'Puerto Rico', 'Philippines', 'Hong Kong', 'Taiwan', 'Cape Verde',\n",
       "       'Trinidad and Tobago', 'Mongolia', 'Myanmar', 'North Korea',\n",
       "       'Afghanistan', 'Cambodia', 'Liechtenstein', 'Botswana',\n",
       "       'Madagascar', 'Mauritius', 'Iraq', 'Ghana', 'Aland Islands',\n",
       "       'Zambia', 'Iceland', 'Zimbabwe', 'Azerbaidjan', 'Kuwait',\n",
       "       'Venezuela', 'S. Georgia & S. Sandwich Isls.', 'Panama', 'Andorra',\n",
       "       'Cayman Islands', 'Bahamas', 'Honduras', 'Sudan', 'Syria',\n",
       "       'Gibraltar', 'Virgin Islands (British)', 'Cameroon', 'Tanzania',\n",
       "       'Mozambique', 'Qatar', 'Libya', 'Reunion (French)',\n",
       "       'Vatican City State', 'Oman', 'Angola', 'Montenegro', 'Haiti',\n",
       "       'New Caledonia (French)', 'Bahrain', 'Bouvet Island', 'Togo',\n",
       "       'Namibia', 'Guyana', 'Lesotho', 'Antarctica', 'Burkina Faso',\n",
       "       'Anguilla', 'Fiji', 'Bhutan', 'Malawi', 'Laos', 'Gabon', 'Senegal',\n",
       "       'Kyrgyzstan', 'Tadjikistan', 'Brunei Darussalam', 'Zaire',\n",
       "       \"Ivory Coast (Cote D'Ivoire)\", 'Saint Lucia', 'Monaco',\n",
       "       'U.S. Minor Outlying Islands', 'Polynesia (French)',\n",
       "       'French Guyana', 'Pitcairn Island', 'Seychelles', 'Guinea',\n",
       "       'Aruba', 'Belize', 'Benin', 'Swaziland', 'Barbados', 'Eritrea',\n",
       "       'Niger', 'Suriname', 'Guam', 'Antigua and Barbuda', 'Djibouti',\n",
       "       'Mali', 'British Indian Ocean Territory',\n",
       "       'Northern Mariana Islands', 'Saint Vincent & Grenadines',\n",
       "       'Martinique (French)', 'Burundi', 'Cook Islands', 'Yemen',\n",
       "       'Turkmenistan', 'Macau', 'Chad', 'Falkland Islands', 'Montserrat',\n",
       "       'Christmas Island', 'Heard and McDonald Islands', 'Comoros',\n",
       "       'Saint Helena'], dtype=object)"
      ]
     },
     "execution_count": 7,
     "metadata": {},
     "output_type": "execute_result"
    }
   ],
   "source": [
    "data['Country'].unique()"
   ]
  },
  {
   "cell_type": "code",
   "execution_count": 8,
   "metadata": {},
   "outputs": [
    {
     "data": {
      "text/plain": [
       "United States                     11455\n",
       "India                              5197\n",
       "United Kingdom                     4395\n",
       "Germany                            4143\n",
       "Canada                             2233\n",
       "                                  ...  \n",
       "Bahamas                               1\n",
       "S. Georgia & S. Sandwich Isls.        1\n",
       "Falkland Islands                      1\n",
       "Macau                                 1\n",
       "French Guyana                         1\n",
       "Name: Country, Length: 201, dtype: int64"
      ]
     },
     "execution_count": 8,
     "metadata": {},
     "output_type": "execute_result"
    }
   ],
   "source": [
    "data.Country.value_counts()\n"
   ]
  },
  {
   "cell_type": "code",
   "execution_count": 9,
   "metadata": {},
   "outputs": [
    {
     "name": "stdout",
     "output_type": "stream",
     "text": [
      "              Country         Salary\n",
      "16            Bahamas  110000.000000\n",
      "22             Belize  127653.057592\n",
      "24            Bermuda  115000.000000\n",
      "44   Christmas Island  110000.000000\n",
      "54           Djibouti  155000.000000\n",
      "175       Tadjikistan  105000.000000\n"
     ]
    },
    {
     "data": {
      "image/png": "[encoded data removed]",
      "text/plain": [
       "<Figure size 432x288 with 1 Axes>"
      ]
     },
     "metadata": {
      "needs_background": "light"
     },
     "output_type": "display_data"
    }
   ],
   "source": [
    "#average salary\n",
    "highest=data.groupby(['Country'])['Salary'].mean().reset_index()\n",
    "#handle missing data\n",
    "highest=highest.dropna()\n",
    "#filter data to get the salary above 100000\n",
    "highest=highest[highest['Salary']>=100000]\n",
    "print(highest)\n",
    "#ploting the data\n",
    "sns.barplot(x = 'Country', y = 'Salary', data = highest.dropna())\n",
    "plt.title('Average Salary by The Country');\n"
   ]
  },
  {
   "cell_type": "code",
   "execution_count": 10,
   "metadata": {},
   "outputs": [
    {
     "name": "stdout",
     "output_type": "stream",
     "text": [
      "     Country    Salary\n",
      "54  Djibouti  155000.0\n"
     ]
    },
    {
     "data": {
      "text/plain": [
       "<AxesSubplot:>"
      ]
     },
     "execution_count": 10,
     "metadata": {},
     "output_type": "execute_result"
    },
    {
     "data": {
      "image/png": "[encoded data removed]",
      "text/plain": [
       "<Figure size 432x288 with 1 Axes>"
      ]
     },
     "metadata": {
      "needs_background": "light"
     },
     "output_type": "display_data"
    }
   ],
   "source": [
    "#filter data to pick highest salary\n",
    "maximum=highest[highest['Salary']==highest['Salary'].max()]\n",
    "print(maximum)\n",
    "highest.plot(kind='barh')\n",
    "# print(\"The highest salary belong to which Country is \",maximum['Country'])\n"
   ]
  },
  {
   "cell_type": "code",
   "execution_count": null,
   "metadata": {},
   "outputs": [],
   "source": []
  },
  {
   "cell_type": "code",
   "execution_count": null,
   "metadata": {},
   "outputs": [],
   "source": []
  },
  {
   "cell_type": "markdown",
   "metadata": {},
   "source": [
    "**Q2)The highest salary belong to which size of company and its type??** "
   ]
  },
  {
   "cell_type": "code",
   "execution_count": 11,
   "metadata": {},
   "outputs": [
    {
     "data": {
      "text/plain": [
       "CompanyType                                    CompanySize             \n",
       "Government agency or public school/university  1,000 to 4,999 employees    193000.000000\n",
       "                                               10 to 19 employees          180000.000000\n",
       "                                               10,000 or more employees    190000.000000\n",
       "                                               100 to 499 employees        181818.181818\n",
       "                                               20 to 99 employees          175000.000000\n",
       "                                                                               ...      \n",
       "Venture-funded startup                         5,000 to 9,999 employees    190000.000000\n",
       "                                               500 to 999 employees        185000.000000\n",
       "                                               Fewer than 10 employees     170000.000000\n",
       "                                               I don't know                 25000.000000\n",
       "                                               I prefer not to answer      150000.000000\n",
       "Name: Salary, Length: 110, dtype: float64"
      ]
     },
     "execution_count": 11,
     "metadata": {},
     "output_type": "execute_result"
    }
   ],
   "source": [
    "data.groupby(['CompanyType','CompanySize'])['Salary'].max()\n"
   ]
  },
  {
   "cell_type": "markdown",
   "metadata": {},
   "source": [
    "Ressult\n",
    "The Government agency or public school/university have the highest salary"
   ]
  },
  {
   "cell_type": "code",
   "execution_count": null,
   "metadata": {},
   "outputs": [],
   "source": []
  },
  {
   "cell_type": "markdown",
   "metadata": {},
   "source": [
    "**Q3)Which Formal Education has the highest salary?**"
   ]
  },
  {
   "cell_type": "code",
   "execution_count": 12,
   "metadata": {},
   "outputs": [
    {
     "data": {
      "text/plain": [
       "FormalEducation\n",
       "I never completed any formal education                               185000.0\n",
       "Primary/elementary school                                            185000.0\n",
       "I prefer not to answer                                               190000.0\n",
       "Professional degree                                                  192000.0\n",
       "Master's degree                                                      195000.0\n",
       "Some college/university study without earning a bachelor's degree    195000.0\n",
       "Bachelor's degree                                                    197000.0\n",
       "Doctoral degree                                                      197000.0\n",
       "Secondary school                                                     197000.0\n",
       "Name: Salary, dtype: float64"
      ]
     },
     "execution_count": 12,
     "metadata": {},
     "output_type": "execute_result"
    }
   ],
   "source": [
    "#highest salary for Formal Education\n",
    "FD=data.groupby('FormalEducation')['Salary'].max().sort_values(ascending=True)\n",
    "FD"
   ]
  },
  {
   "cell_type": "code",
   "execution_count": 13,
   "metadata": {},
   "outputs": [
    {
     "data": {
      "text/plain": [
       "<AxesSubplot:ylabel='FormalEducation'>"
      ]
     },
     "execution_count": 13,
     "metadata": {},
     "output_type": "execute_result"
    },
    {
     "data": {
      "image/png": "[encoded data removed]",
      "text/plain": [
       "<Figure size 432x288 with 1 Axes>"
      ]
     },
     "metadata": {
      "needs_background": "light"
     },
     "output_type": "display_data"
    }
   ],
   "source": [
    "#ploting FD\n",
    "FD.plot(kind='barh')"
   ]
  },
  {
   "cell_type": "markdown",
   "metadata": {},
   "source": [
    "Result\n",
    "the highest salary belong to 3 kind of Formal Education Bachelor's degree, Doctoral degree and Secondary school"
   ]
  },
  {
   "cell_type": "code",
   "execution_count": null,
   "metadata": {},
   "outputs": [],
   "source": []
  },
  {
   "cell_type": "markdown",
   "metadata": {},
   "source": [
    "**Q4)What the programing language that the people most like it ?**"
   ]
  },
  {
   "cell_type": "code",
   "execution_count": 14,
   "metadata": {},
   "outputs": [
    {
     "data": {
      "text/plain": [
       "array(['Swift', 'JavaScript; Python; Ruby; SQL', 'Java; PHP; Python', ...,\n",
       "       'C++; C#; JavaScript; Lua; PHP',\n",
       "       'C++; C#; Perl; Ruby; SQL; VB.NET; VBA',\n",
       "       'C#; JavaScript; PHP; Python; R; SQL'], dtype=object)"
      ]
     },
     "execution_count": 14,
     "metadata": {},
     "output_type": "execute_result"
    }
   ],
   "source": [
    "#lang that we have in data are\n",
    "lang=data['HaveWorkedLanguage'].unique()\n",
    "lang"
   ]
  },
  {
   "cell_type": "code",
   "execution_count": 15,
   "metadata": {},
   "outputs": [
    {
     "data": {
      "text/plain": [
       "<AxesSubplot:>"
      ]
     },
     "execution_count": 15,
     "metadata": {},
     "output_type": "execute_result"
    },
    {
     "data": {
      "image/png": "[encoded data removed]",
      "text/plain": [
       "<Figure size 432x288 with 1 Axes>"
      ]
     },
     "metadata": {
      "needs_background": "light"
     },
     "output_type": "display_data"
    }
   ],
   "source": [
    "like_lang=data['HaveWorkedLanguage'].value_counts()\n",
    "like_lang=like_lang.head(7)\n",
    "like_lang.plot(kind='barh')"
   ]
  },
  {
   "cell_type": "markdown",
   "metadata": {},
   "source": [
    "Result \n",
    "The most liked programing languages are C#, JavaScript and SQL"
   ]
  },
  {
   "cell_type": "code",
   "execution_count": null,
   "metadata": {},
   "outputs": [],
   "source": []
  },
  {
   "cell_type": "code",
   "execution_count": 17,
   "metadata": {},
   "outputs": [],
   "source": [
    "#selecting the integare cols and most relevent catogricals cols \n",
    "X= data[['University','EmploymentStatus','FormalEducation','MajorUndergrad','CompanySize','CompanyType',\n",
    "       'HoursPerWeek',\n",
    "      'Professional'\n",
    "   ]]\n",
    "\n",
    "y= data[['Salary']]\n",
    "#converting catogricals cols into int by \n",
    "cat_colm = X.select_dtypes(include=['object'])\n",
    "X=pd.get_dummies(X,cat_colm.columns)"
   ]
  },
  {
   "cell_type": "code",
   "execution_count": 18,
   "metadata": {},
   "outputs": [],
   "source": [
    "training, testing, L_train, L_test = train_test_split(X, y, test_size = .20)"
   ]
  },
  {
   "cell_type": "code",
   "execution_count": 19,
   "metadata": {},
   "outputs": [],
   "source": [
    "model=LinearRegression(normalize=True) "
   ]
  },
  {
   "cell_type": "code",
   "execution_count": 20,
   "metadata": {},
   "outputs": [
    {
     "data": {
      "text/plain": [
       "LinearRegression(normalize=True)"
      ]
     },
     "execution_count": 20,
     "metadata": {},
     "output_type": "execute_result"
    }
   ],
   "source": [
    "model.fit(training, L_train) "
   ]
  },
  {
   "cell_type": "code",
   "execution_count": 21,
   "metadata": {},
   "outputs": [
    {
     "data": {
      "text/plain": [
       "10279"
      ]
     },
     "execution_count": 21,
     "metadata": {},
     "output_type": "execute_result"
    }
   ],
   "source": [
    "y_p=model.predict(testing)\n",
    "np.size(y_p)"
   ]
  },
  {
   "cell_type": "code",
   "execution_count": 22,
   "metadata": {},
   "outputs": [
    {
     "data": {
      "text/html": [
       "<div>\n",
       "<style scoped>\n",
       "    .dataframe tbody tr th:only-of-type {\n",
       "        vertical-align: middle;\n",
       "    }\n",
       "\n",
       "    .dataframe tbody tr th {\n",
       "        vertical-align: top;\n",
       "    }\n",
       "\n",
       "    .dataframe thead th {\n",
       "        text-align: right;\n",
       "    }\n",
       "</style>\n",
       "<table border=\"1\" class=\"dataframe\">\n",
       "  <thead>\n",
       "    <tr style=\"text-align: right;\">\n",
       "      <th></th>\n",
       "      <th>Salary</th>\n",
       "    </tr>\n",
       "  </thead>\n",
       "  <tbody>\n",
       "    <tr>\n",
       "      <th>45029</th>\n",
       "      <td>22583.166855</td>\n",
       "    </tr>\n",
       "    <tr>\n",
       "      <th>40056</th>\n",
       "      <td>42.000000</td>\n",
       "    </tr>\n",
       "    <tr>\n",
       "      <th>30710</th>\n",
       "      <td>31250.000000</td>\n",
       "    </tr>\n",
       "    <tr>\n",
       "      <th>12448</th>\n",
       "      <td>38687.782805</td>\n",
       "    </tr>\n",
       "    <tr>\n",
       "      <th>43575</th>\n",
       "      <td>66000.000000</td>\n",
       "    </tr>\n",
       "    <tr>\n",
       "      <th>...</th>\n",
       "      <td>...</td>\n",
       "    </tr>\n",
       "    <tr>\n",
       "      <th>47009</th>\n",
       "      <td>82000.000000</td>\n",
       "    </tr>\n",
       "    <tr>\n",
       "      <th>13500</th>\n",
       "      <td>104000.000000</td>\n",
       "    </tr>\n",
       "    <tr>\n",
       "      <th>17919</th>\n",
       "      <td>35237.116429</td>\n",
       "    </tr>\n",
       "    <tr>\n",
       "      <th>13223</th>\n",
       "      <td>45248.868778</td>\n",
       "    </tr>\n",
       "    <tr>\n",
       "      <th>9968</th>\n",
       "      <td>102000.000000</td>\n",
       "    </tr>\n",
       "  </tbody>\n",
       "</table>\n",
       "<p>10279 rows × 1 columns</p>\n",
       "</div>"
      ],
      "text/plain": [
       "              Salary\n",
       "45029   22583.166855\n",
       "40056      42.000000\n",
       "30710   31250.000000\n",
       "12448   38687.782805\n",
       "43575   66000.000000\n",
       "...              ...\n",
       "47009   82000.000000\n",
       "13500  104000.000000\n",
       "17919   35237.116429\n",
       "13223   45248.868778\n",
       "9968   102000.000000\n",
       "\n",
       "[10279 rows x 1 columns]"
      ]
     },
     "execution_count": 22,
     "metadata": {},
     "output_type": "execute_result"
    }
   ],
   "source": [
    "L_test"
   ]
  },
  {
   "cell_type": "code",
   "execution_count": 23,
   "metadata": {},
   "outputs": [
    {
     "data": {
      "text/plain": [
       "Salary   -124.730627\n",
       "dtype: float64"
      ]
     },
     "execution_count": 23,
     "metadata": {},
     "output_type": "execute_result"
    }
   ],
   "source": [
    "np.mean((model.predict(testing))-L_test)"
   ]
  },
  {
   "cell_type": "code",
   "execution_count": 24,
   "metadata": {},
   "outputs": [
    {
     "data": {
      "text/plain": [
       "0.027297468624943977"
      ]
     },
     "execution_count": 24,
     "metadata": {},
     "output_type": "execute_result"
    }
   ],
   "source": [
    "model.score(testing,L_test)"
   ]
  },
  {
   "cell_type": "code",
   "execution_count": 25,
   "metadata": {},
   "outputs": [
    {
     "data": {
      "text/plain": [
       "39144.04877324327"
      ]
     },
     "execution_count": 25,
     "metadata": {},
     "output_type": "execute_result"
    }
   ],
   "source": [
    "from sklearn.metrics import mean_squared_error\n",
    "np.sqrt(mean_squared_error(L_test, y_p))"
   ]
  },
  {
   "cell_type": "code",
   "execution_count": 29,
   "metadata": {},
   "outputs": [
    {
     "data": {
      "image/png": "[encoded data removed]",
      "text/plain": [
       "<Figure size 432x288 with 1 Axes>"
      ]
     },
     "metadata": {
      "needs_background": "light"
     },
     "output_type": "display_data"
    }
   ],
   "source": [
    "plt.scatter(L_test,y_p, color='red')\n",
    "plt.plot(training, model.predict(training), color='blue')\n",
    "plt.show()"
   ]
  },
  {
   "cell_type": "code",
   "execution_count": null,
   "metadata": {},
   "outputs": [],
   "source": []
  },
  {
   "cell_type": "code",
   "execution_count": null,
   "metadata": {},
   "outputs": [],
   "source": []
  }
 ],
 "metadata": {
  "kernelspec": {
   "display_name": "coding-shared-cdp-dev (Python)",
   "language": "python",
   "name": "conda-env-coding-shared-cdp-dev-py"
  },
  "language_info": {
   "codemirror_mode": {
    "name": "ipython",
    "version": 3
   },
   "file_extension": ".py",
   "mimetype": "text/x-python",
   "name": "python",
   "nbconvert_exporter": "python",
   "pygments_lexer": "ipython3",
   "version": "3.6.13"
  }
 },
 "nbformat": 4,
 "nbformat_minor": 4
}
