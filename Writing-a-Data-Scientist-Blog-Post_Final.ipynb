{
 "cells": [
  {
   "cell_type": "markdown",
   "metadata": {},
   "source": [
    "## Get To Know Stack Overflow Data"
    "### Project1 Writing a Data Scientist Blog Post"
   ]
  },
  {
   "cell_type": "code",
   "execution_count": 3,
   "metadata": {},
   "outputs": [],
   "source": [
    "import pandas as pd\n",
    "import numpy as np\n",
    "import matplotlib.pyplot as plt\n",
    "import seaborn as sns\n",
    "from sklearn.linear_model import LinearRegression\n",
    "from sklearn.model_selection import train_test_split\n",
    "%matplotlib inline\n"
   ]
  },
  {
   "cell_type": "markdown",
   "metadata": {},
   "source": [
    "## 1. Business Understanding\n",
    "The following questions will be answer after analyzing the dataset:\n",
    "1. The highest salary belong to which Country ??\n",
    "2. The highest salary belong to which size of company and its type??\n",
    "3. Which Formal Education has the highest salary?\n",
    "4. What the programing language that the people most like it ?"
   ]
  },
  {
   "cell_type": "markdown",
   "metadata": {},
   "source": [
    "## 2. Understand Data\n",
    "### Gather Data\n",
    "Firstly, we need to load dataset in order to understand the data and analyzing it"
   ]
  },
  {
   "cell_type": "code",
   "execution_count": 4,
   "metadata": {},
   "outputs": [
    {
     "data": {
      "text/html": [
       "<div>\n",
       "<style scoped>\n",
       "    .dataframe tbody tr th:only-of-type {\n",
       "        vertical-align: middle;\n",
       "    }\n",
       "\n",
       "    .dataframe tbody tr th {\n",
       "        vertical-align: top;\n",
       "    }\n",
       "\n",
       "    .dataframe thead th {\n",
       "        text-align: right;\n",
       "    }\n",
       "</style>\n",
       "<table border=\"1\" class=\"dataframe\">\n",
       "  <thead>\n",
       "    <tr style=\"text-align: right;\">\n",
       "      <th></th>\n",
       "      <th>Respondent</th>\n",
       "      <th>Professional</th>\n",
       "      <th>ProgramHobby</th>\n",
       "      <th>Country</th>\n",
       "      <th>University</th>\n",
       "      <th>EmploymentStatus</th>\n",
       "      <th>FormalEducation</th>\n",
       "      <th>MajorUndergrad</th>\n",
       "      <th>HomeRemote</th>\n",
       "      <th>CompanySize</th>\n",
       "      <th>...</th>\n",
       "      <th>StackOverflowMakeMoney</th>\n",
       "      <th>Gender</th>\n",
       "      <th>HighestEducationParents</th>\n",
       "      <th>Race</th>\n",
       "      <th>SurveyLong</th>\n",
       "      <th>QuestionsInteresting</th>\n",
       "      <th>QuestionsConfusing</th>\n",
       "      <th>InterestedAnswers</th>\n",
       "      <th>Salary</th>\n",
       "      <th>ExpectedSalary</th>\n",
       "    </tr>\n",
       "  </thead>\n",
       "  <tbody>\n",
       "    <tr>\n",
       "      <th>0</th>\n",
       "      <td>1</td>\n",
       "      <td>Student</td>\n",
       "      <td>Yes, both</td>\n",
       "      <td>United States</td>\n",
       "      <td>No</td>\n",
       "      <td>Not employed, and not looking for work</td>\n",
       "      <td>Secondary school</td>\n",
       "      <td>NaN</td>\n",
       "      <td>NaN</td>\n",
       "      <td>NaN</td>\n",
       "      <td>...</td>\n",
       "      <td>Strongly disagree</td>\n",
       "      <td>Male</td>\n",
       "      <td>High school</td>\n",
       "      <td>White or of European descent</td>\n",
       "      <td>Strongly disagree</td>\n",
       "      <td>Strongly agree</td>\n",
       "      <td>Disagree</td>\n",
       "      <td>Strongly agree</td>\n",
       "      <td>NaN</td>\n",
       "      <td>NaN</td>\n",
       "    </tr>\n",
       "    <tr>\n",
       "      <th>1</th>\n",
       "      <td>2</td>\n",
       "      <td>Student</td>\n",
       "      <td>Yes, both</td>\n",
       "      <td>United Kingdom</td>\n",
       "      <td>Yes, full-time</td>\n",
       "      <td>Employed part-time</td>\n",
       "      <td>Some college/university study without earning ...</td>\n",
       "      <td>Computer science or software engineering</td>\n",
       "      <td>More than half, but not all, the time</td>\n",
       "      <td>20 to 99 employees</td>\n",
       "      <td>...</td>\n",
       "      <td>Strongly disagree</td>\n",
       "      <td>Male</td>\n",
       "      <td>A master's degree</td>\n",
       "      <td>White or of European descent</td>\n",
       "      <td>Somewhat agree</td>\n",
       "      <td>Somewhat agree</td>\n",
       "      <td>Disagree</td>\n",
       "      <td>Strongly agree</td>\n",
       "      <td>NaN</td>\n",
       "      <td>37500.0</td>\n",
       "    </tr>\n",
       "    <tr>\n",
       "      <th>2</th>\n",
       "      <td>3</td>\n",
       "      <td>Professional developer</td>\n",
       "      <td>Yes, both</td>\n",
       "      <td>United Kingdom</td>\n",
       "      <td>No</td>\n",
       "      <td>Employed full-time</td>\n",
       "      <td>Bachelor's degree</td>\n",
       "      <td>Computer science or software engineering</td>\n",
       "      <td>Less than half the time, but at least one day ...</td>\n",
       "      <td>10,000 or more employees</td>\n",
       "      <td>...</td>\n",
       "      <td>Disagree</td>\n",
       "      <td>Male</td>\n",
       "      <td>A professional degree</td>\n",
       "      <td>White or of European descent</td>\n",
       "      <td>Somewhat agree</td>\n",
       "      <td>Agree</td>\n",
       "      <td>Disagree</td>\n",
       "      <td>Agree</td>\n",
       "      <td>113750.0</td>\n",
       "      <td>NaN</td>\n",
       "    </tr>\n",
       "    <tr>\n",
       "      <th>3</th>\n",
       "      <td>4</td>\n",
       "      <td>Professional non-developer who sometimes write...</td>\n",
       "      <td>Yes, both</td>\n",
       "      <td>United States</td>\n",
       "      <td>No</td>\n",
       "      <td>Employed full-time</td>\n",
       "      <td>Doctoral degree</td>\n",
       "      <td>A non-computer-focused engineering discipline</td>\n",
       "      <td>Less than half the time, but at least one day ...</td>\n",
       "      <td>10,000 or more employees</td>\n",
       "      <td>...</td>\n",
       "      <td>Disagree</td>\n",
       "      <td>Male</td>\n",
       "      <td>A doctoral degree</td>\n",
       "      <td>White or of European descent</td>\n",
       "      <td>Agree</td>\n",
       "      <td>Agree</td>\n",
       "      <td>Somewhat agree</td>\n",
       "      <td>Strongly agree</td>\n",
       "      <td>NaN</td>\n",
       "      <td>NaN</td>\n",
       "    </tr>\n",
       "    <tr>\n",
       "      <th>4</th>\n",
       "      <td>5</td>\n",
       "      <td>Professional developer</td>\n",
       "      <td>Yes, I program as a hobby</td>\n",
       "      <td>Switzerland</td>\n",
       "      <td>No</td>\n",
       "      <td>Employed full-time</td>\n",
       "      <td>Master's degree</td>\n",
       "      <td>Computer science or software engineering</td>\n",
       "      <td>Never</td>\n",
       "      <td>10 to 19 employees</td>\n",
       "      <td>...</td>\n",
       "      <td>NaN</td>\n",
       "      <td>NaN</td>\n",
       "      <td>NaN</td>\n",
       "      <td>NaN</td>\n",
       "      <td>NaN</td>\n",
       "      <td>NaN</td>\n",
       "      <td>NaN</td>\n",
       "      <td>NaN</td>\n",
       "      <td>NaN</td>\n",
       "      <td>NaN</td>\n",
       "    </tr>\n",
       "  </tbody>\n",
       "</table>\n",
       "<p>5 rows × 154 columns</p>\n",
       "</div>"
      ],
      "text/plain": [
       "   Respondent                                       Professional  \\\n",
       "0           1                                            Student   \n",
       "1           2                                            Student   \n",
       "2           3                             Professional developer   \n",
       "3           4  Professional non-developer who sometimes write...   \n",
       "4           5                             Professional developer   \n",
       "\n",
       "                ProgramHobby         Country      University  \\\n",
       "0                  Yes, both   United States              No   \n",
       "1                  Yes, both  United Kingdom  Yes, full-time   \n",
       "2                  Yes, both  United Kingdom              No   \n",
       "3                  Yes, both   United States              No   \n",
       "4  Yes, I program as a hobby     Switzerland              No   \n",
       "\n",
       "                         EmploymentStatus  \\\n",
       "0  Not employed, and not looking for work   \n",
       "1                      Employed part-time   \n",
       "2                      Employed full-time   \n",
       "3                      Employed full-time   \n",
       "4                      Employed full-time   \n",
       "\n",
       "                                     FormalEducation  \\\n",
       "0                                   Secondary school   \n",
       "1  Some college/university study without earning ...   \n",
       "2                                  Bachelor's degree   \n",
       "3                                    Doctoral degree   \n",
       "4                                    Master's degree   \n",
       "\n",
       "                                  MajorUndergrad  \\\n",
       "0                                            NaN   \n",
       "1       Computer science or software engineering   \n",
       "2       Computer science or software engineering   \n",
       "3  A non-computer-focused engineering discipline   \n",
       "4       Computer science or software engineering   \n",
       "\n",
       "                                          HomeRemote  \\\n",
       "0                                                NaN   \n",
       "1              More than half, but not all, the time   \n",
       "2  Less than half the time, but at least one day ...   \n",
       "3  Less than half the time, but at least one day ...   \n",
       "4                                              Never   \n",
       "\n",
       "                CompanySize  ... StackOverflowMakeMoney Gender  \\\n",
       "0                       NaN  ...      Strongly disagree   Male   \n",
       "1        20 to 99 employees  ...      Strongly disagree   Male   \n",
       "2  10,000 or more employees  ...               Disagree   Male   \n",
       "3  10,000 or more employees  ...               Disagree   Male   \n",
       "4        10 to 19 employees  ...                    NaN    NaN   \n",
       "\n",
       "  HighestEducationParents                          Race         SurveyLong  \\\n",
       "0             High school  White or of European descent  Strongly disagree   \n",
       "1       A master's degree  White or of European descent     Somewhat agree   \n",
       "2   A professional degree  White or of European descent     Somewhat agree   \n",
       "3       A doctoral degree  White or of European descent              Agree   \n",
       "4                     NaN                           NaN                NaN   \n",
       "\n",
       "  QuestionsInteresting QuestionsConfusing InterestedAnswers    Salary  \\\n",
       "0       Strongly agree           Disagree    Strongly agree       NaN   \n",
       "1       Somewhat agree           Disagree    Strongly agree       NaN   \n",
       "2                Agree           Disagree             Agree  113750.0   \n",
       "3                Agree     Somewhat agree    Strongly agree       NaN   \n",
       "4                  NaN                NaN               NaN       NaN   \n",
       "\n",
       "   ExpectedSalary  \n",
       "0             NaN  \n",
       "1         37500.0  \n",
       "2             NaN  \n",
       "3             NaN  \n",
       "4             NaN  \n",
       "\n",
       "[5 rows x 154 columns]"
      ]
     },
     "execution_count": 4,
     "metadata": {},
     "output_type": "execute_result"
    }
   ],
   "source": [
    "#importing data\n",
    "\n",
    "data=pd.read_csv('survey_results_public.csv')\n",
    "\n",
    "#Viewing head 5 rows for data\n",
    "data.head()"
   ]
  },
  {
   "cell_type": "markdown",
   "metadata": {},
   "source": [
    "### Clean Data\n",
    "will start invastegate the data in order to cleaning"
   ]
  },
  {
   "cell_type": "code",
   "execution_count": 5,
   "metadata": {},
   "outputs": [
    {
     "data": {
      "text/plain": [
       "Respondent                  0\n",
       "Professional                0\n",
       "ProgramHobby                0\n",
       "Country                     0\n",
       "University                  0\n",
       "                        ...  \n",
       "QuestionsInteresting    16856\n",
       "QuestionsConfusing      16973\n",
       "InterestedAnswers       16780\n",
       "Salary                  38501\n",
       "ExpectedSalary          48826\n",
       "Length: 154, dtype: int64"
      ]
     },
     "execution_count": 5,
     "metadata": {},
     "output_type": "execute_result"
    }
   ],
   "source": [
    "#start Handling missing data with inspecting the sum of it in each col in order to \n",
    "#know the total number of missing data in each column\n",
    "data.isna().sum()"
   ]
  },
  {
   "cell_type": "markdown",
   "metadata": {},
   "source": [
    "As we can see there are huge number of missing data in most of columns "
   ]
  },
  {
   "cell_type": "code",
   "execution_count": 6,
   "metadata": {},
   "outputs": [
    {
     "name": "stdout",
     "output_type": "stream",
     "text": [
      "Index(['Respondent', 'Professional', 'ProgramHobby', 'Country', 'University',\n",
      "       'EmploymentStatus', 'FormalEducation', 'MajorUndergrad', 'HomeRemote',\n",
      "       'CompanySize',\n",
      "       ...\n",
      "       'StackOverflowMakeMoney', 'Gender', 'HighestEducationParents', 'Race',\n",
      "       'SurveyLong', 'QuestionsInteresting', 'QuestionsConfusing',\n",
      "       'InterestedAnswers', 'Salary', 'ExpectedSalary'],\n",
      "      dtype='object', length=154)\n",
      "Respondent\n",
      "Professional\n",
      "ProgramHobby\n",
      "Country\n",
      "University\n",
      "EmploymentStatus\n",
      "FormalEducation\n",
      "MajorUndergrad\n",
      "HomeRemote\n",
      "CompanySize\n",
      "CompanyType\n",
      "YearsProgram\n",
      "YearsCodedJob\n",
      "YearsCodedJobPast\n",
      "DeveloperType\n",
      "WebDeveloperType\n",
      "MobileDeveloperType\n",
      "NonDeveloperType\n",
      "CareerSatisfaction\n",
      "JobSatisfaction\n",
      "ExCoderReturn\n",
      "ExCoderNotForMe\n",
      "ExCoderBalance\n",
      "ExCoder10Years\n",
      "ExCoderBelonged\n",
      "ExCoderSkills\n",
      "ExCoderWillNotCode\n",
      "ExCoderActive\n",
      "PronounceGIF\n",
      "ProblemSolving\n",
      "BuildingThings\n",
      "LearningNewTech\n",
      "BoringDetails\n",
      "JobSecurity\n",
      "DiversityImportant\n",
      "AnnoyingUI\n",
      "FriendsDevelopers\n",
      "RightWrongWay\n",
      "UnderstandComputers\n",
      "SeriousWork\n",
      "InvestTimeTools\n",
      "WorkPayCare\n",
      "KinshipDevelopers\n",
      "ChallengeMyself\n",
      "CompetePeers\n",
      "ChangeWorld\n",
      "JobSeekingStatus\n",
      "HoursPerWeek\n",
      "LastNewJob\n",
      "AssessJobIndustry\n",
      "AssessJobRole\n",
      "AssessJobExp\n",
      "AssessJobDept\n",
      "AssessJobTech\n",
      "AssessJobProjects\n",
      "AssessJobCompensation\n",
      "AssessJobOffice\n",
      "AssessJobCommute\n",
      "AssessJobRemote\n",
      "AssessJobLeaders\n",
      "AssessJobProfDevel\n",
      "AssessJobDiversity\n",
      "AssessJobProduct\n",
      "AssessJobFinances\n",
      "ImportantBenefits\n",
      "ClickyKeys\n",
      "JobProfile\n",
      "ResumePrompted\n",
      "LearnedHiring\n",
      "ImportantHiringAlgorithms\n",
      "ImportantHiringTechExp\n",
      "ImportantHiringCommunication\n",
      "ImportantHiringOpenSource\n",
      "ImportantHiringPMExp\n",
      "ImportantHiringCompanies\n",
      "ImportantHiringTitles\n",
      "ImportantHiringEducation\n",
      "ImportantHiringRep\n",
      "ImportantHiringGettingThingsDone\n",
      "Currency\n",
      "Overpaid\n",
      "TabsSpaces\n",
      "EducationImportant\n",
      "EducationTypes\n",
      "SelfTaughtTypes\n",
      "TimeAfterBootcamp\n",
      "CousinEducation\n",
      "WorkStart\n",
      "HaveWorkedLanguage\n",
      "WantWorkLanguage\n",
      "HaveWorkedFramework\n",
      "WantWorkFramework\n",
      "HaveWorkedDatabase\n",
      "WantWorkDatabase\n",
      "HaveWorkedPlatform\n",
      "WantWorkPlatform\n",
      "IDE\n",
      "AuditoryEnvironment\n",
      "Methodology\n",
      "VersionControl\n",
      "CheckInCode\n",
      "ShipIt\n",
      "OtherPeoplesCode\n",
      "ProjectManagement\n",
      "EnjoyDebugging\n",
      "InTheZone\n",
      "DifficultCommunication\n",
      "CollaborateRemote\n",
      "MetricAssess\n",
      "EquipmentSatisfiedMonitors\n",
      "EquipmentSatisfiedCPU\n",
      "EquipmentSatisfiedRAM\n",
      "EquipmentSatisfiedStorage\n",
      "EquipmentSatisfiedRW\n",
      "InfluenceInternet\n",
      "InfluenceWorkstation\n",
      "InfluenceHardware\n",
      "InfluenceServers\n",
      "InfluenceTechStack\n",
      "InfluenceDeptTech\n",
      "InfluenceVizTools\n",
      "InfluenceDatabase\n",
      "InfluenceCloud\n",
      "InfluenceConsultants\n",
      "InfluenceRecruitment\n",
      "InfluenceCommunication\n",
      "StackOverflowDescribes\n",
      "StackOverflowSatisfaction\n",
      "StackOverflowDevices\n",
      "StackOverflowFoundAnswer\n",
      "StackOverflowCopiedCode\n",
      "StackOverflowJobListing\n",
      "StackOverflowCompanyPage\n",
      "StackOverflowJobSearch\n",
      "StackOverflowNewQuestion\n",
      "StackOverflowAnswer\n",
      "StackOverflowMetaChat\n",
      "StackOverflowAdsRelevant\n",
      "StackOverflowAdsDistracting\n",
      "StackOverflowModeration\n",
      "StackOverflowCommunity\n",
      "StackOverflowHelpful\n",
      "StackOverflowBetter\n",
      "StackOverflowWhatDo\n",
      "StackOverflowMakeMoney\n",
      "Gender\n",
      "HighestEducationParents\n",
      "Race\n",
      "SurveyLong\n",
      "QuestionsInteresting\n",
      "QuestionsConfusing\n",
      "InterestedAnswers\n",
      "Salary\n",
      "ExpectedSalary\n"
     ]
    }
   ],
   "source": [
    "#columns in dataset are\n",
    "print(data.columns)\n",
    "\n",
    "#To view all col`s we need loop\n",
    "for c in data:\n",
    "    print(c)"
   ]
  },
  {
   "cell_type": "markdown",
   "metadata": {},
   "source": [
    "we can see all the columns in the dataset"
   ]
  },
  {
   "cell_type": "code",
   "execution_count": 7,
   "metadata": {},
   "outputs": [
    {
     "data": {
      "text/plain": [
       "(51392, 154)"
      ]
     },
     "execution_count": 7,
     "metadata": {},
     "output_type": "execute_result"
    }
   ],
   "source": [
    "#to know the Number of row and columns of the dataset\n",
    "data.shape"
   ]
  },
  {
   "cell_type": "markdown",
   "metadata": {},
   "source": [
    "## 3.Prepare Data\n",
    "And now will prepare the data to start answering the question  "
   ]
  },
  {
   "cell_type": "code",
   "execution_count": 8,
   "metadata": {},
   "outputs": [],
   "source": [
    "#take care of missing data by filling it\n",
    "\n",
    "data=data.fillna(method='ffill')\n",
    "data=data.fillna(method='bfill')\n"
   ]
  },
  {
   "cell_type": "markdown",
   "metadata": {},
   "source": [
    "because there are alot of missing data and droping it will cause missing alot of number of the data so I prefared to filling it "
   ]
  },
  {
   "cell_type": "markdown",
   "metadata": {},
   "source": [
    "## 4. Answer Questions\n",
    "In this part I will start analyzing data to answer the questions\n",
    "\n",
    "### Analyze"
   ]
  },
  {
   "cell_type": "code",
   "execution_count": 30,
   "metadata": {},
   "outputs": [],
   "source": [
    "#firstly will creat graph function to ploting the data as will use it frequently in each Q\n",
    "def graph(x_axis,y_axis,data,title):\n",
    "    '''\n",
    "    This function used to ploting the data in bar graph\n",
    "    \n",
    "    Input:\n",
    "    x_axis\n",
    "    y_axis\n",
    "    data\n",
    "    title\n",
    "    \n",
    "    Output:\n",
    "    plt plot bar graph\n",
    "    '''\n",
    "    sns.barplot(x = x_axis, y = y_axis, data = data)\n",
    "    plt.title(title);\n",
    "    "
   ]
  },
  {
   "cell_type": "markdown",
   "metadata": {},
   "source": [
    "**Q1)The highest salary belong to which Country ??**\n",
    "\n",
    "In order to answer the first question I will get the mean of salary groupd by country, and then I will ploting the data to easy visualizing the answer "
   ]
  },
  {
   "cell_type": "code",
   "execution_count": 10,
   "metadata": {},
   "outputs": [
    {
     "data": {
      "text/plain": [
       "array(['United States', 'United Kingdom', 'Switzerland', 'New Zealand',\n",
       "       'Poland', 'Colombia', 'France', 'Canada', 'Germany', 'Greece',\n",
       "       'Brazil', 'Israel', 'Italy', 'Belgium', 'India', 'Chile',\n",
       "       'Croatia', 'Argentina', 'Netherlands', 'Denmark', 'Ukraine',\n",
       "       'Sri Lanka', 'Malaysia', 'Finland', 'Turkey', 'Spain', 'Austria',\n",
       "       'Mexico', 'Russian Federation', 'Bulgaria', 'Uruguay', 'Estonia',\n",
       "       'Iran', 'Bangladesh', 'Sweden', 'Lithuania', 'Paraguay', 'Romania',\n",
       "       'Costa Rica', 'Serbia', 'Slovenia', 'United Arab Emirates',\n",
       "       'Tunisia', 'Kenya', 'El Salvador', 'Norway', 'Dominican Republic',\n",
       "       'Belarus', 'Portugal', 'Czech Republic', 'Albania',\n",
       "       'I prefer not to say', 'South Africa', 'Uzbekistan', 'Moldavia',\n",
       "       'Ireland', 'Nepal', 'Pakistan', 'Slovak Republic', 'Hungary',\n",
       "       'Egypt', 'Australia', 'Japan', 'South Korea', 'Rwanda',\n",
       "       'Luxembourg', 'Kazakhstan', 'Bolivia', 'Vietnam', 'Somalia',\n",
       "       'Saudi Arabia', 'Ethiopia', 'Macedonia', 'Bosnia-Herzegovina',\n",
       "       'Algeria', 'Nicaragua', 'Cuba', 'Indonesia',\n",
       "       'Netherlands Antilles', 'Jamaica', 'Nigeria', 'Ecuador', 'Peru',\n",
       "       'Malta', 'Uganda', 'Morocco', 'Guatemala', 'Jordan', 'Cyprus',\n",
       "       'Georgia', 'Armenia', 'Virgin Islands (USA)', 'Lebanon', 'China',\n",
       "       'Bermuda', 'Latvia', 'Singapore', 'Thailand', 'American Samoa',\n",
       "       'Puerto Rico', 'Philippines', 'Hong Kong', 'Taiwan', 'Cape Verde',\n",
       "       'Trinidad and Tobago', 'Mongolia', 'Myanmar', 'North Korea',\n",
       "       'Afghanistan', 'Cambodia', 'Liechtenstein', 'Botswana',\n",
       "       'Madagascar', 'Mauritius', 'Iraq', 'Ghana', 'Aland Islands',\n",
       "       'Zambia', 'Iceland', 'Zimbabwe', 'Azerbaidjan', 'Kuwait',\n",
       "       'Venezuela', 'S. Georgia & S. Sandwich Isls.', 'Panama', 'Andorra',\n",
       "       'Cayman Islands', 'Bahamas', 'Honduras', 'Sudan', 'Syria',\n",
       "       'Gibraltar', 'Virgin Islands (British)', 'Cameroon', 'Tanzania',\n",
       "       'Mozambique', 'Qatar', 'Libya', 'Reunion (French)',\n",
       "       'Vatican City State', 'Oman', 'Angola', 'Montenegro', 'Haiti',\n",
       "       'New Caledonia (French)', 'Bahrain', 'Bouvet Island', 'Togo',\n",
       "       'Namibia', 'Guyana', 'Lesotho', 'Antarctica', 'Burkina Faso',\n",
       "       'Anguilla', 'Fiji', 'Bhutan', 'Malawi', 'Laos', 'Gabon', 'Senegal',\n",
       "       'Kyrgyzstan', 'Tadjikistan', 'Brunei Darussalam', 'Zaire',\n",
       "       \"Ivory Coast (Cote D'Ivoire)\", 'Saint Lucia', 'Monaco',\n",
       "       'U.S. Minor Outlying Islands', 'Polynesia (French)',\n",
       "       'French Guyana', 'Pitcairn Island', 'Seychelles', 'Guinea',\n",
       "       'Aruba', 'Belize', 'Benin', 'Swaziland', 'Barbados', 'Eritrea',\n",
       "       'Niger', 'Suriname', 'Guam', 'Antigua and Barbuda', 'Djibouti',\n",
       "       'Mali', 'British Indian Ocean Territory',\n",
       "       'Northern Mariana Islands', 'Saint Vincent & Grenadines',\n",
       "       'Martinique (French)', 'Burundi', 'Cook Islands', 'Yemen',\n",
       "       'Turkmenistan', 'Macau', 'Chad', 'Falkland Islands', 'Montserrat',\n",
       "       'Christmas Island', 'Heard and McDonald Islands', 'Comoros',\n",
       "       'Saint Helena'], dtype=object)"
      ]
     },
     "execution_count": 10,
     "metadata": {},
     "output_type": "execute_result"
    }
   ],
   "source": [
    "data['Country'].unique()"
   ]
  },
  {
   "cell_type": "markdown",
   "metadata": {},
   "source": [
    "##### We can see all unique values of country column"
   ]
  },
  {
   "cell_type": "code",
   "execution_count": 11,
   "metadata": {},
   "outputs": [
    {
     "data": {
      "text/plain": [
       "United States                     11455\n",
       "India                              5197\n",
       "United Kingdom                     4395\n",
       "Germany                            4143\n",
       "Canada                             2233\n",
       "                                  ...  \n",
       "Cape Verde                            1\n",
       "S. Georgia & S. Sandwich Isls.        1\n",
       "Guam                                  1\n",
       "Saint Helena                          1\n",
       "Burkina Faso                          1\n",
       "Name: Country, Length: 201, dtype: int64"
      ]
     },
     "execution_count": 11,
     "metadata": {},
     "output_type": "execute_result"
    }
   ],
   "source": [
    "data.Country.value_counts()\n"
   ]
  },
  {
   "cell_type": "code",
   "execution_count": 32,
   "metadata": {},
   "outputs": [
    {
     "name": "stdout",
     "output_type": "stream",
     "text": [
      "              Country         Salary\n",
      "16            Bahamas  110000.000000\n",
      "22             Belize  127653.057592\n",
      "24            Bermuda  115000.000000\n",
      "44   Christmas Island  110000.000000\n",
      "54           Djibouti  155000.000000\n",
      "175       Tadjikistan  105000.000000\n"
     ]
    },
    {
     "data": {
      "image/png": "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\n",
      "text/plain": [
       "<Figure size 432x288 with 1 Axes>"
      ]
     },
     "metadata": {
      "needs_background": "light"
     },
     "output_type": "display_data"
    }
   ],
   "source": [
    "#get the average salary groupby Country\n",
    "highest=data.groupby(['Country'])['Salary'].mean().reset_index()\n",
    "#handle missing data\n",
    "highest=highest.dropna()\n",
    "#filter data to get the salary above 100000\n",
    "highest=highest[highest['Salary']>=100000]\n",
    "print(highest)\n",
    "#ploting the data\n",
    "graph('Country','Salary',highest.dropna(),'Average Salary by The Country')\n",
    "\n"
   ]
  },
  {
   "cell_type": "markdown",
   "metadata": {},
   "source": [
    "##### As we can see in the above figure  the highest salary for multibule country "
   ]
  },
  {
   "cell_type": "code",
   "execution_count": 13,
   "metadata": {},
   "outputs": [
    {
     "name": "stdout",
     "output_type": "stream",
     "text": [
      "     Country    Salary\n",
      "54  Djibouti  155000.0\n"
     ]
    },
    {
     "data": {
      "text/plain": [
       "<AxesSubplot:>"
      ]
     },
     "execution_count": 13,
     "metadata": {},
     "output_type": "execute_result"
    },
    {
     "data": {
      "image/png": "iVBORw0KGgoAAAANSUhEUgAAAYQAAAD4CAYAAADsKpHdAAAAOXRFWHRTb2Z0d2FyZQBNYXRwbG90bGliIHZlcnNpb24zLjMuNCwgaHR0cHM6Ly9tYXRwbG90bGliLm9yZy8QVMy6AAAACXBIWXMAAAsTAAALEwEAmpwYAAAS/klEQVR4nO3dfZBddX3H8feXJCTloQmwQUI27QYhjJBUkGTAwYdALVLMyJSxBaQqKGYQyUDLyPA0hTLDjIKjFtqpySjBUh6kAaQToIryoM4gsIkhIYRAwFU2EwuJQ5BiIMRv/7i/JTeb3WR372PI+zWzs+f+zrnnfPd3Hz77O+fceyIzkSRpj1YXIElqDwaCJAkwECRJhYEgSQIMBElSMbrVBQB0dHRkV1dXq8uQpF3KkiVL1mfmxHqtry0Coauri+7u7laXIUm7lIj4dT3X5y4jSRJgIEiSCgNBkgS0yTEESRrI5s2b6e3tZdOmTa0upaXGjRtHZ2cnY8aMaeh2DARJbau3t5d9992Xrq4uIqLV5bREZrJhwwZ6e3uZOnVqQ7flLiNJbWvTpk0ccMABu20YAEQEBxxwQFNGSQaCpLa2O4dBn2b1QVvsMlqxdiNdl97X6jKkd6Wer36i1SVoF9EWgSBJQ1HvfxyHEpbXXnstt912G6NGjWKPPfZg/vz5HHvssQMue/bZZzNnzhw+9alP1bXOZjEQJGkQjz32GIsXL2bp0qWMHTuW9evX89Zbb9Vt/W+//TajR7fP27DHECRpEOvWraOjo4OxY8cC0NHRwcEHH8w111zDrFmzmD59OnPnzmWgK08Otszs2bO56KKLmDlzJtdeey1Tp05l8+bNALz22mvb3G42A0GSBnHSSSfx0ksvMW3aNM4//3weffRRAC644AKefPJJnn76af7whz+wePHi7e67o2Xeeusturu7ueqqq5g9ezb33VfZFXbHHXdw2mmnNfzzBoMxECRpEPvssw9LlixhwYIFTJw4kdNPP52bb76Zhx9+mGOPPZYZM2bw0EMPsXLlyu3uu6NlTj/99Hemzz33XBYuXAjAwoULOeeccxr/hw1ipzuvIuImYA7wcmZOL23fBw4vi0wAXs3MoyKiC1gFrC7zfpGZ59W7aElqllGjRjF79mxmz57NjBkzmD9/PsuXL6e7u5spU6Zw9dVXb/cZgU2bNnH++ecPuszee+/9zvTxxx9PT08PjzzyCFu2bGH69OlN+9v6G8oI4Wbg5OqGzDw9M4/KzKOAu4C7q2a/0DfPMJC0K1u9ejXPP//8O7eXLVvG4YdX/hfu6Ojg9ddfZ9GiRdvdr+/Nf0fLVPvsZz/Lpz/96ZaODmAII4TM/Gn5z387Ufm0xN8BJ9a5LknaTrM/U/H6668zb948Xn31VUaPHs2hhx7KggULmDBhAtOnT+eggw5i1qxZ291vwoQJfPGLX9zhMtXOOussrrzySs4888xG/SlDEgMdHd9uoUogLO7bZVTV/hHgG5k5s2q5lcBzwGvAlZn5s0HWOReYCzDqTyce0/mlhSP/KyQNalf+YNqqVat43/ve1+oyGm7RokXce++93HLLLYMuM1BfRMSSvvffeqj1BNgzgdurbq8D/iwzN0TEMcAPIuLIzHyt/x0zcwGwAGDspMN2nkqS9C40b948HnjgAe6///5WlzLyQIiI0cBpwDF9bZn5JvBmmV4SES8A0wCvjylJA7jxxhtbXcI7ajnt9GPAs5nZ29cQERMjYlSZPgQ4DHixthIl7c6Gslv73a5ZfbDTQIiI24HHgMMjojcivlBmncG2u4sAPgIsj4hlwCLgvMz8XR3rlbQbGTduHBs2bNitQ6Hvegjjxo1r+LaGcpbRgIe9M/PsAdruonIaqiTVrLOzk97eXl555ZVWl9JSfVdMa7T2+VYlSepnzJgxDb9KmLbyqyskSYCBIEkqDARJEtAmxxBmTB5P9y78aUpJejdwhCBJAgwESVJhIEiSAANBklQYCJIkwECQJBUGgiQJMBAkSYWBIEkCDARJUmEgSJIAA0GSVBgIkiTAQJAkFQaCJAkwECRJhYEgSQLa5IppK9ZupOvS+1pdhiQ1VU+bXSnSEYIkCTAQJEmFgSBJAgwESVJhIEiSgDoEQkT0RMSKiFgWEd395l0cERkRHbVuR5LUWPU67fSEzFxf3RARU4CTgN/UaRuSpAZq5C6jbwKXANnAbUiS6qQegZDAjyJiSUTMBYiIU4G1mfnUYHeKiLkR0R0R3Vve2FiHMiRJtajHLqMPZebaiDgQeDAingUup7K7aFCZuQBYADB20mGOIiSpxWoeIWTm2vL7ZeAe4KPAVOCpiOgBOoGlEXFQrduSJDVOTYEQEXtHxL5901RGBU9m5oGZ2ZWZXUAv8IHM/G3N1UqSGqbWXUbvAe6JiL513ZaZ/1NzVZKkpqspEDLzReD9O1mmq5ZtSJKaw08qS5IAA0GSVBgIkiSgTa6YNmPyeLrb7MpBkrS7cYQgSQIMBElSYSBIkgADQZJUGAiSJMBAkCQVBoIkCTAQJEmFgSBJAgwESVJhIEiSAANBklQYCJIkwECQJBUGgiQJMBAkSYWBIEkC2uSKaSvWbqTr0vtaXYa02+vxyoW7NUcIkiTAQJAkFQaCJAkwECRJhYEgSQLqEAgRMSoifhkRi/u13xARr9e6fklSc9RjhHAhsKq6ISJmAvvVYd2SpCapKRAiohP4BPCdqrZRwPXAJbWVJklqplpHCN+i8sb/x6q2C4D/zsx1O7pjRMyNiO6I6N7yxsYay5Ak1WrEgRARc4CXM3NJVdvBwN8CN+7s/pm5IDNnZubMUXuNH2kZkqQ6qeWrK44HPhkRpwDjgD8FVgJvAmsiAmCviFiTmYfWXKkkqaFGPELIzMsyszMzu4AzgIcyc7/MPCgzu0r7G4aBJO0a/ByCJAmo07edZuYjwCMDtO9Tj/VLkhrPEYIkCTAQJEmFgSBJAtrkimkzJo+n2ys1SVJLOUKQJAEGgiSpMBAkSYCBIEkqDARJEmAgSJIKA0GSBBgIkqTCQJAkAQaCJKkwECRJgIEgSSoMBEkSYCBIkgoDQZIEGAiSpMJAkCQBbXLFtBVrN9J16X2tLkPSEPV4hcN3JUcIkiTAQJAkFQaCJAkwECRJhYEgSQJqCISImBIRD0fEMxGxMiIu7Df/4ojIiOiovUxJUqPVctrp28DFmbk0IvYFlkTEg5n5TERMAU4CflOXKiVJDTfiEUJmrsvMpWX698AqYHKZ/U3gEiBrrlCS1BR1OYYQEV3A0cDjEXEqsDYzn9rJfeZGRHdEdG95Y2M9ypAk1aDmTypHxD7AXcBFVHYjXU5ld9EOZeYCYAHA2EmHOZKQpBaraYQQEWOohMGtmXk38F5gKvBURPQAncDSiDio1kIlSY014hFCRATwXWBVZn4DIDNXAAdWLdMDzMzM9TXWKUlqsFpGCMcDnwFOjIhl5eeUOtUlSWqyEY8QMvPnQOxkma6Rrl+S1Fx+UlmSBBgIkqTCQJAkAW1yxbQZk8fT7RWYJKmlHCFIkgADQZJUGAiSJMBAkCQVBoIkCTAQJEmFgSBJAgwESVJhIEiSAANBklQYCJIkwECQJBUGgiQJMBAkSYWBIEkCDARJUmEgSJKANrli2oq1G+m69L5WlyGpzfR4JcWmcoQgSQIMBElSYSBIkgADQZJUGAiSJKCGQIiIKRHxcEQ8ExErI+LC0n59RDwbEcsj4p6ImFC3aiVJDVPLCOFt4OLMPAI4DvhyRBwBPAhMz8y/AJ4DLqu9TElSo404EDJzXWYuLdO/B1YBkzPzR5n5dlnsF0Bn7WVKkhqtLscQIqILOBp4vN+szwMPDHKfuRHRHRHdW97YWI8yJEk1qDkQImIf4C7gosx8rar9Ciq7lW4d6H6ZuSAzZ2bmzFF7ja+1DElSjWr66oqIGEMlDG7NzLur2s8G5gB/mZlZU4WSpKYYcSBERADfBVZl5jeq2k8GLgE+mplv1F6iJKkZahkhHA98BlgREctK2+XADcBY4MFKZvCLzDyvliIlSY034kDIzJ8DMcCs+0dejiSpVfyksiQJMBAkSYWBIEkCDARJUtEWl9CcMXk83V4qT5JayhGCJAkwECRJhYEgSQIMBElSYSBIkgADQZJUGAiSJMBAkCQVBoIkCTAQJEmFgSBJAgwESVJhIEiSAANBklQYCJIkwECQJBUGgiQJaJMrpq1Yu5GuS+9rdRnSbq/HKxfu1hwhSJIAA0GSVBgIkiTAQJAkFQaCJAmoMRAi4qaIeDkinu7XPi8ino2IlRFxXW0lSpKaodYRws3AydUNEXECcCrw/sw8Evh6jduQJDVBTYGQmT8Fftev+UvAVzPzzbLMy7VsQ5LUHI04hjAN+HBEPB4Rj0bErIEWioi5EdEdEd1b3tjYgDIkScPRiEAYDewPHAd8BbgzIqL/Qpm5IDNnZubMUXuNb0AZkqThaEQg9AJ3Z8UTwB+BjgZsR5JUR40IhB8AJwBExDRgT2B9A7YjSaqjmr7cLiJuB2YDHRHRC1wF3ATcVE5FfQv4XGZmrYVKkhqrpkDIzDMHmfX3taxXktR8flJZkgQYCJKkwkCQJAFtcsW0GZPH0+2VmiSppRwhSJIAA0GSVBgIkiTAQJAkFQaCJAkwECRJhYEgSQIMBElSEe3wRaQR8Xtgdavr2IkOdo2v8d4V6rTG+rDG+tiVa/zzzJxYr420xSeVgdWZObPVRexIRHS3e42wa9RpjfVhjfVhjVu5y0iSBBgIkqSiXQJhQasLGIJdoUbYNeq0xvqwxvqwxqItDipLklqvXUYIkqQWMxAkSRWZ2dIf4GQqn0FYA1zahO1NAR4GngFWAheW9v2BB4Hny+/9SnsAN5T6lgMfqFrX58ryzwOfq2o/BlhR7nMDZdfcMOscBfwSWFxuTwUeL+v8PrBnaR9bbq8p87uq1nFZaV8NfLzefQ5MABYBzwKrgA+2YT/+Q3mcnwZuB8a1ui+Bm4CXgaer2hreb4NtYxg1Xl8e6+XAPcCEkfbPSB6DodZZNe9iIIGOduvL0j6v9OdK4LpW92VmtjYQqLzpvQAcAuwJPAUc0eBtTup7IgD7As8BRwDX9XUycCnwtTJ9CvBAeTIdBzxe9YR4sfzer0z3vYifKMtGue9fj6DOfwRuY2sg3AmcUaa/DXypTJ8PfLtMnwF8v0wfUfpzbHnCvFD6u259DnwPOLdM70klINqmH4HJwK+AP6nqw7Nb3ZfAR4APsO2bbcP7bbBtDKPGk4DRZfprVTUOu3+G+xgMp87SPgX4IfBrtgZCO/XlCcCPgbHl9oGt7svM1gfCB4EfVt2+DLisyTXcC/wVleSdVNomUfmwHMB84Myq5VeX+WcC86va55e2ScCzVe3bLDfEmjqBnwAnAovLk3E9W1+M7/RbedJ/sEyPLstF/77sW65efQ6Mp/JmG/3a26kfJwMvUXmhjy59+fF26Eugi23fIBreb4NtY6g19pv3N8CtA/3dO+ufkTyfh1snlZHr+4EetgZC2/QllTfxjw2wXEv7stXHEPpesH16S1tTREQXcDSV4dR7MnNdmfVb4D07qXFH7b0DtA/Ht4BLgD+W2wcAr2bm2wOs8506yvyNZfnh1j1cU4FXgIUR8cuI+E5E7E0b9WNmrgW+DvwGWEelb5bQfn0Jzem3wbYxEp+n8h/zSGocyfN5yCLiVGBtZj7Vb1Y79eU04MMR8XhEPBoRs0ZYY137stWB0DIRsQ9wF3BRZr5WPS8rkZotqmsO8HJmLmnF9odhNJVh8L9n5tHA/1EZOr+jlf0IEBH7AadSCa+Dgb2p7Idta83ot1q2ERFXAG8Dt9a1qDqIiL2Ay4F/atY2R9iXo6mMXI8DvgLcGRFR79qGq9WBsJbKvr4+naWtoSJiDJUwuDUz7y7N/xsRk8r8SVQOAu2oxh21dw7QPlTHA5+MiB7gDiq7jf4FmBARfd89Vb3Od+oo88cDG0ZQ93D1Ar2Z+Xi5vYhKQLRLPwJ8DPhVZr6SmZuBu6n0b7v1JTSn3wbbxpBFxNnAHOCs8kY4kho3MPzHYKjeS+UfgKfKa6gTWBoRB42gzkb2ZS9wd1Y8QWVvQMcIaqxvXw5lf2ejfqik5ItUHsC+AyVHNnibAfwH8K1+7dez7UGi68r0J9j2QNQTpX1/KvvQ9ys/vwL2L/P6H4g6ZYS1zmbrQeX/YtsDR+eX6S+z7YGjO8v0kWx7cOpFKgem6tbnwM+Aw8v01aUP26YfgWOpnMGxV1nH96ic2dHyvmT7fcoN77fBtjGMGk+mcnbexH7LDbt/hvsYDKfOfvN62HoMoZ368jzgmjI9jcqunWh5X47kjaCeP1SO/D9H5Qj6FU3Y3oeoDO+WA8vKzylU9q39hMppZD+uekIE8G+lvhXAzKp1fZ7KKV1rgHOq2mdSOc3xBeBfGcHpkmU9s9kaCIeUJ+ea8gToOzthXLm9psw/pOr+V5QaVlN1hk69+hw4CuguffmD8mJqq34E/pnKqX1PA7eUF1pL+5LK6a/rgM1U/lP8QjP6bbBtDKPGNVTeuJaVn2+PtH9G8hgMtc5+83vY9rTTdunLPYH/LOteCpzY6r7MTL+6QpJU0epjCJKkNmEgSJIAA0GSVBgIkiTAQJAkFQaCJAkwECRJxf8Do+aptsEBKwgAAAAASUVORK5CYII=\n",
      "text/plain": [
       "<Figure size 432x288 with 1 Axes>"
      ]
     },
     "metadata": {
      "needs_background": "light"
     },
     "output_type": "display_data"
    }
   ],
   "source": [
    "#filter data to pick highest salary\n",
    "maximum=highest[highest['Salary']==highest['Salary'].max()]\n",
    "print(maximum)\n",
    "highest.plot(kind='barh')\n",
    "# print(\"The highest salary belong to which Country is \",maximum['Country'])\n"
   ]
  },
  {
   "cell_type": "markdown",
   "metadata": {},
   "source": [
    "##### As we can see in the above figure that the highest salary belong to country called Djibouti. As it has salary around 155000.0. FurtherMore, the people live in Djibouti they get the highest salary in compare to the other country."
   ]
  },
  {
   "cell_type": "code",
   "execution_count": null,
   "metadata": {},
   "outputs": [],
   "source": []
  },
  {
   "cell_type": "code",
   "execution_count": null,
   "metadata": {},
   "outputs": [],
   "source": []
  },
  {
   "cell_type": "markdown",
   "metadata": {},
   "source": [
    "**Q2)The highest salary belong to which size of company and its type??** \n",
    "\n",
    "In order to answer the question I filtered the data based on company type and company size to identify the maximum salary belong to which type of them."
   ]
  },
  {
   "cell_type": "code",
   "execution_count": 14,
   "metadata": {},
   "outputs": [
    {
     "data": {
      "text/plain": [
       "CompanyType                                    CompanySize             \n",
       "Government agency or public school/university  1,000 to 4,999 employees    193000.000000\n",
       "                                               10 to 19 employees          180000.000000\n",
       "                                               10,000 or more employees    190000.000000\n",
       "                                               100 to 499 employees        181818.181818\n",
       "                                               20 to 99 employees          175000.000000\n",
       "                                                                               ...      \n",
       "Venture-funded startup                         5,000 to 9,999 employees    190000.000000\n",
       "                                               500 to 999 employees        185000.000000\n",
       "                                               Fewer than 10 employees     170000.000000\n",
       "                                               I don't know                 25000.000000\n",
       "                                               I prefer not to answer      150000.000000\n",
       "Name: Salary, Length: 110, dtype: float64"
      ]
     },
     "execution_count": 14,
     "metadata": {},
     "output_type": "execute_result"
    }
   ],
   "source": [
    "data.groupby(['CompanyType','CompanySize'])['Salary'].max()\n"
   ]
  },
  {
   "cell_type": "markdown",
   "metadata": {},
   "source": [
    "##### Ressult\n",
    "The Government agency or public school/university have the highest salary. The salary are increasing along with the size of the company and for Government and public type of company as well"
   ]
  },
  {
   "cell_type": "code",
   "execution_count": null,
   "metadata": {},
   "outputs": [],
   "source": []
  },
  {
   "cell_type": "markdown",
   "metadata": {},
   "source": [
    "**Q3)Which Formal Education has the highest salary?**\n",
    "\n",
    "I wondered about the highest salary based on the formal education. So the chart below visualize the highest salary groupby formal education."
   ]
  },
  {
   "cell_type": "code",
   "execution_count": 15,
   "metadata": {},
   "outputs": [
    {
     "data": {
      "text/plain": [
       "FormalEducation\n",
       "I never completed any formal education                               185000.0\n",
       "Primary/elementary school                                            185000.0\n",
       "I prefer not to answer                                               190000.0\n",
       "Professional degree                                                  192000.0\n",
       "Master's degree                                                      195000.0\n",
       "Some college/university study without earning a bachelor's degree    195000.0\n",
       "Bachelor's degree                                                    197000.0\n",
       "Doctoral degree                                                      197000.0\n",
       "Secondary school                                                     197000.0\n",
       "Name: Salary, dtype: float64"
      ]
     },
     "execution_count": 15,
     "metadata": {},
     "output_type": "execute_result"
    }
   ],
   "source": [
    "#highest salary for Formal Education\n",
    "FD=data.groupby('FormalEducation')['Salary'].max().sort_values(ascending=True)\n",
    "FD"
   ]
  },
  {
   "cell_type": "markdown",
   "metadata": {},
   "source": [
    "##### we can see in the above result the highest salary for different formal of education"
   ]
  },
  {
   "cell_type": "code",
   "execution_count": 16,
   "metadata": {},
   "outputs": [
    {
     "data": {
      "text/plain": [
       "<AxesSubplot:ylabel='FormalEducation'>"
      ]
     },
     "execution_count": 16,
     "metadata": {},
     "output_type": "execute_result"
    },
    {
     "data": {
      "image/png": "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\n",
      "text/plain": [
       "<Figure size 432x288 with 1 Axes>"
      ]
     },
     "metadata": {
      "needs_background": "light"
     },
     "output_type": "display_data"
    }
   ],
   "source": [
    "#ploting FD\n",
    "FD.plot(kind='barh')"
   ]
  },
  {
   "cell_type": "markdown",
   "metadata": {},
   "source": [
    "##### Result\n",
    "the highest salary belong to 3 kind of Formal Education Bachelor's degree, Doctoral degree and Secondary school.\n",
    "So, we can summarize from the above graph whenever we get higher degree , the higher salary we get"
   ]
  },
  {
   "cell_type": "code",
   "execution_count": null,
   "metadata": {},
   "outputs": [],
   "source": []
  },
  {
   "cell_type": "markdown",
   "metadata": {},
   "source": [
    "**Q4)What the programing language that the people most like it ?**\n",
    "\n",
    "I was interesting to know the most liked programing language by the people, so in the below graph we can see the frequent language that the people have worked with"
   ]
  },
  {
   "cell_type": "code",
   "execution_count": 17,
   "metadata": {},
   "outputs": [
    {
     "data": {
      "text/plain": [
       "array(['Swift', 'JavaScript; Python; Ruby; SQL', 'Java; PHP; Python', ...,\n",
       "       'C++; C#; JavaScript; Lua; PHP',\n",
       "       'C++; C#; Perl; Ruby; SQL; VB.NET; VBA',\n",
       "       'C#; JavaScript; PHP; Python; R; SQL'], dtype=object)"
      ]
     },
     "execution_count": 17,
     "metadata": {},
     "output_type": "execute_result"
    }
   ],
   "source": [
    "#lang that we have in data are\n",
    "lang=data['HaveWorkedLanguage'].unique()\n",
    "lang"
   ]
  },
  {
   "cell_type": "code",
   "execution_count": 18,
   "metadata": {},
   "outputs": [
    {
     "data": {
      "text/plain": [
       "<AxesSubplot:>"
      ]
     },
     "execution_count": 18,
     "metadata": {},
     "output_type": "execute_result"
    },
    {
     "data": {
      "image/png": "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\n",
      "text/plain": [
       "<Figure size 432x288 with 1 Axes>"
      ]
     },
     "metadata": {
      "needs_background": "light"
     },
     "output_type": "display_data"
    }
   ],
   "source": [
    "like_lang=data['HaveWorkedLanguage'].value_counts()\n",
    "like_lang=like_lang.head(7)\n",
    "like_lang.plot(kind='barh')"
   ]
  },
  {
   "cell_type": "markdown",
   "metadata": {},
   "source": [
    "##### Result \n",
    "The most liked programing languages are C#, JavaScript and SQL. So, these languages are the most selected by people \n",
    "and the most used in the domain currently"
   ]
  },
  {
   "cell_type": "markdown",
   "metadata": {},
   "source": [
    "### Modling"
   ]
  },
  {
   "cell_type": "code",
   "execution_count": 34,
   "metadata": {},
   "outputs": [],
   "source": [
    "#selecting the integare cols and most relevent catogricals cols \n",
    "#Reason:\n",
    "# I selected only the below categorical variables as I believe these columns has the most influencing on the salary\n",
    "\n",
    "X= data[['University','EmploymentStatus','FormalEducation','MajorUndergrad','CompanySize','CompanyType',\n",
    "       'HoursPerWeek',\n",
    "      'Professional'\n",
    "   ]]\n",
    "\n",
    "y= data[['Salary']]\n",
    "#converting catogricals cols into int by \n",
    "cat_colm = X.select_dtypes(include=['object'])\n",
    "X=pd.get_dummies(X,cat_colm.columns)"
   ]
  },
  {
   "cell_type": "code",
   "execution_count": 20,
   "metadata": {},
   "outputs": [],
   "source": [
    "training, testing, L_train, L_test = train_test_split(X, y, test_size = .20)"
   ]
  },
  {
   "cell_type": "code",
   "execution_count": 21,
   "metadata": {},
   "outputs": [],
   "source": [
    "model=LinearRegression(normalize=True) "
   ]
  },
  {
   "cell_type": "code",
   "execution_count": 22,
   "metadata": {},
   "outputs": [
    {
     "data": {
      "text/plain": [
       "LinearRegression(normalize=True)"
      ]
     },
     "execution_count": 22,
     "metadata": {},
     "output_type": "execute_result"
    }
   ],
   "source": [
    "model.fit(training, L_train) "
   ]
  },
  {
   "cell_type": "code",
   "execution_count": 23,
   "metadata": {},
   "outputs": [
    {
     "data": {
      "text/plain": [
       "10279"
      ]
     },
     "execution_count": 23,
     "metadata": {},
     "output_type": "execute_result"
    }
   ],
   "source": [
    "y_p=model.predict(testing)\n",
    "np.size(y_p)"
   ]
  },
  {
   "cell_type": "code",
   "execution_count": 24,
   "metadata": {},
   "outputs": [
    {
     "data": {
      "text/html": [
       "<div>\n",
       "<style scoped>\n",
       "    .dataframe tbody tr th:only-of-type {\n",
       "        vertical-align: middle;\n",
       "    }\n",
       "\n",
       "    .dataframe tbody tr th {\n",
       "        vertical-align: top;\n",
       "    }\n",
       "\n",
       "    .dataframe thead th {\n",
       "        text-align: right;\n",
       "    }\n",
       "</style>\n",
       "<table border=\"1\" class=\"dataframe\">\n",
       "  <thead>\n",
       "    <tr style=\"text-align: right;\">\n",
       "      <th></th>\n",
       "      <th>Salary</th>\n",
       "    </tr>\n",
       "  </thead>\n",
       "  <tbody>\n",
       "    <tr>\n",
       "      <th>50989</th>\n",
       "      <td>71500.000000</td>\n",
       "    </tr>\n",
       "    <tr>\n",
       "      <th>18817</th>\n",
       "      <td>8894.878706</td>\n",
       "    </tr>\n",
       "    <tr>\n",
       "      <th>13267</th>\n",
       "      <td>120000.000000</td>\n",
       "    </tr>\n",
       "    <tr>\n",
       "      <th>31839</th>\n",
       "      <td>97500.000000</td>\n",
       "    </tr>\n",
       "    <tr>\n",
       "      <th>7288</th>\n",
       "      <td>10622.009569</td>\n",
       "    </tr>\n",
       "    <tr>\n",
       "      <th>...</th>\n",
       "      <td>...</td>\n",
       "    </tr>\n",
       "    <tr>\n",
       "      <th>38827</th>\n",
       "      <td>63300.000000</td>\n",
       "    </tr>\n",
       "    <tr>\n",
       "      <th>522</th>\n",
       "      <td>15037.593985</td>\n",
       "    </tr>\n",
       "    <tr>\n",
       "      <th>10458</th>\n",
       "      <td>425.781824</td>\n",
       "    </tr>\n",
       "    <tr>\n",
       "      <th>47229</th>\n",
       "      <td>3523.711643</td>\n",
       "    </tr>\n",
       "    <tr>\n",
       "      <th>6417</th>\n",
       "      <td>20000.000000</td>\n",
       "    </tr>\n",
       "  </tbody>\n",
       "</table>\n",
       "<p>10279 rows × 1 columns</p>\n",
       "</div>"
      ],
      "text/plain": [
       "              Salary\n",
       "50989   71500.000000\n",
       "18817    8894.878706\n",
       "13267  120000.000000\n",
       "31839   97500.000000\n",
       "7288    10622.009569\n",
       "...              ...\n",
       "38827   63300.000000\n",
       "522     15037.593985\n",
       "10458     425.781824\n",
       "47229    3523.711643\n",
       "6417    20000.000000\n",
       "\n",
       "[10279 rows x 1 columns]"
      ]
     },
     "execution_count": 24,
     "metadata": {},
     "output_type": "execute_result"
    }
   ],
   "source": [
    "L_test"
   ]
  },
  {
   "cell_type": "code",
   "execution_count": 25,
   "metadata": {},
   "outputs": [
    {
     "data": {
      "text/plain": [
       "Salary    603.965947\n",
       "dtype: float64"
      ]
     },
     "execution_count": 25,
     "metadata": {},
     "output_type": "execute_result"
    }
   ],
   "source": [
    "np.mean((model.predict(testing))-L_test)"
   ]
  },
  {
   "cell_type": "code",
   "execution_count": 26,
   "metadata": {},
   "outputs": [
    {
     "data": {
      "text/plain": [
       "0.027145568122269426"
      ]
     },
     "execution_count": 26,
     "metadata": {},
     "output_type": "execute_result"
    }
   ],
   "source": [
    "model.score(testing,L_test)"
   ]
  },
  {
   "cell_type": "code",
   "execution_count": 27,
   "metadata": {},
   "outputs": [
    {
     "data": {
      "text/plain": [
       "39052.66708047897"
      ]
     },
     "execution_count": 27,
     "metadata": {},
     "output_type": "execute_result"
    }
   ],
   "source": [
    "from sklearn.metrics import mean_squared_error\n",
    "np.sqrt(mean_squared_error(L_test, y_p))"
   ]
  },
  {
   "cell_type": "markdown",
   "metadata": {},
   "source": [
    "### visualize"
   ]
  },
  {
   "cell_type": "code",
   "execution_count": 28,
   "metadata": {},
   "outputs": [
    {
     "data": {
      "image/png": "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\n",
      "text/plain": [
       "<Figure size 432x288 with 1 Axes>"
      ]
     },
     "metadata": {
      "needs_background": "light"
     },
     "output_type": "display_data"
    }
   ],
   "source": [
    "plt.scatter(L_test,y_p, color='red')\n",
    "plt.plot(training, model.predict(training), color='blue')\n",
    "plt.show()"
   ]
  },
  {
   "cell_type": "code",
   "execution_count": null,
   "metadata": {},
   "outputs": [],
   "source": []
  },
  {
   "cell_type": "code",
   "execution_count": null,
   "metadata": {},
   "outputs": [],
   "source": []
  }
 ],
 "metadata": {
  "kernelspec": {
   "display_name": "coding-shared-cdp-dev (Python)",
   "language": "python",
   "name": "conda-env-coding-shared-cdp-dev-py"
  },
  "language_info": {
   "codemirror_mode": {
    "name": "ipython",
    "version": 3
   },
   "file_extension": ".py",
   "mimetype": "text/x-python",
   "name": "python",
   "nbconvert_exporter": "python",
   "pygments_lexer": "ipython3",
   "version": "3.6.13"
  }
 },
 "nbformat": 4,
 "nbformat_minor": 4
}
